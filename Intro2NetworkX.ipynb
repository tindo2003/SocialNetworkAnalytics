{
  "nbformat": 4,
  "nbformat_minor": 0,
  "metadata": {
    "colab": {
      "provenance": [],
      "authorship_tag": "ABX9TyMRsVoc9glwwOyzPCCO+UvY",
      "include_colab_link": true
    },
    "kernelspec": {
      "name": "python3",
      "display_name": "Python 3"
    },
    "language_info": {
      "name": "python"
    }
  },
  "cells": [
    {
      "cell_type": "markdown",
      "metadata": {
        "id": "view-in-github",
        "colab_type": "text"
      },
      "source": [
        "<a href=\"https://colab.research.google.com/github/vmpreciado/NETS3120/blob/main/Intro2NetworkX.ipynb\" target=\"_parent\"><img src=\"https://colab.research.google.com/assets/colab-badge.svg\" alt=\"Open In Colab\"/></a>"
      ]
    },
    {
      "cell_type": "markdown",
      "source": [
        "Code from Section II.C (NETS-3120).\n",
        "Using NetworkX in Python..."
      ],
      "metadata": {
        "id": "SRu9dTvWaFnl"
      }
    },
    {
      "cell_type": "code",
      "source": [
        "!pip install networkx  # Install NetworkX using pip\n",
        "import networkx as nx  # Import the networkx library\n",
        "G = nx.Graph()         # Create an empty graph G\n",
        "G.add_edge('A', 'B')   # Add an edge between nodes 'A' and 'B'\n",
        "print(G.nodes)         # Print the list of nodes in the graph\n",
        "print(G.edges)         # Print the list of edges in the graph"
      ],
      "metadata": {
        "colab": {
          "base_uri": "https://localhost:8080/"
        },
        "id": "gtb_zTG5X5in",
        "outputId": "7ed8f5bb-2f81-4711-9c3f-cd2572ecd594"
      },
      "execution_count": 4,
      "outputs": [
        {
          "output_type": "stream",
          "name": "stdout",
          "text": [
            "Requirement already satisfied: networkx in /usr/local/lib/python3.10/dist-packages (3.2.1)\n",
            "['A', 'B']\n",
            "[('A', 'B')]\n"
          ]
        }
      ]
    },
    {
      "cell_type": "markdown",
      "source": [
        "Add more edges in the graph..."
      ],
      "metadata": {
        "id": "IsdA2jC6aXVu"
      }
    },
    {
      "cell_type": "code",
      "source": [
        "# prompt: Is there a relatively small graph example available in the NetworkX library?\n",
        "\n",
        "G.add_edges_from([('2', '3'), ('3', '4'), ('4', '1'), ('1', '1')])\n",
        "print(G.nodes)         # Print the list of nodes in the graph\n",
        "print(G.edges)         # Print the list of edges in the graph"
      ],
      "metadata": {
        "colab": {
          "base_uri": "https://localhost:8080/"
        },
        "id": "f6f8WWiKYjzR",
        "outputId": "107fa4a5-579e-4133-8020-47383f81d227"
      },
      "execution_count": 6,
      "outputs": [
        {
          "output_type": "stream",
          "name": "stdout",
          "text": [
            "['A', 'B', '2', '3', '4', '1']\n",
            "[('A', 'B'), ('2', '3'), ('3', '4'), ('4', '1'), ('1', '1')]\n"
          ]
        }
      ]
    },
    {
      "cell_type": "code",
      "source": [],
      "metadata": {
        "id": "txi9xJ-oZhL3"
      },
      "execution_count": null,
      "outputs": []
    }
  ]
}