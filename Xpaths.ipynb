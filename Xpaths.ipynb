{
 "cells": [
  {
   "cell_type": "markdown",
   "id": "400ecbf3-8051-4ed6-ab3f-81c9cbc725ed",
   "metadata": {},
   "source": [
    "This Jupyter Notebook focuses on exploring paths within the Twitter/X social network. By examining shortest paths between nodes, we aim to uncover insights into how users are interconnected and the efficiency of information flow across the network. Utilizing the NetworkX library, we will calculate shortest paths, analyze path lengths, and visualize connections to better understand the underlying social dynamics.\n",
    "\n",
    "Initially, we load the Twitter/X network data, which comprises users as nodes and followings as edges. This step involves creating a graph structure with NetworkX, a powerful library for the creation, manipulation, and study of complex networks. Our graph will serve as the foundation for subsequent analyses of paths within the social network.\n"
   ]
  },
  {
   "cell_type": "code",
   "execution_count": 2,
   "id": "6e0ba13d-7883-4759-8348-ba1f25bb8179",
   "metadata": {
    "tags": []
   },
   "outputs": [],
   "source": [
    "import networkx as nx\n",
    "\n",
    "# Define the file path where you saved the GraphML file\n",
    "file_path = \"/Users/victormpreciado/PythonProjects/Networks/TwitterSmall.graphml\"\n",
    "\n",
    "# Load the directed graph from the GraphML file\n",
    "X = nx.read_graphml(file_path)"
   ]
  },
  {
   "cell_type": "markdown",
   "id": "b1f3be06-7146-424d-adac-9d6e90e3fbd3",
   "metadata": {},
   "source": [
    "The following code finds the shortest path and the shortest path length between two randomly chosen nodes in a directed graph represented as a NetworkX DiGraph object."
   ]
  },
  {
   "cell_type": "code",
   "execution_count": 5,
   "id": "3fdfb11c-76a6-4bc2-ac72-17e789f7a105",
   "metadata": {
    "tags": []
   },
   "outputs": [],
   "source": [
    "import random\n",
    "all_nodes = list(X.nodes())\n",
    "random_node1 = random.choice(all_nodes)\n",
    "random_node2 = random.choice(all_nodes)\n",
    "\n",
    "# Ensure that the two nodes are different\n",
    "while random_node1 == random_node2:\n",
    "    random_node2 = random.choice(all_nodes)\n"
   ]
  },
  {
   "cell_type": "code",
   "execution_count": 14,
   "id": "30d3a245-01e2-4cdd-b7ee-6c93579b46c8",
   "metadata": {
    "tags": []
   },
   "outputs": [
    {
     "name": "stdout",
     "output_type": "stream",
     "text": [
      "Random Node 1: 95980722\n",
      "Random Node 2: 139526181\n",
      "Shortest Path between 95980722 and 139526181: ['95980722', '170729553', '34771668', '74651704', '139526181']\n",
      "Shortest Path Length between 95980722 and 139526181: 4\n"
     ]
    }
   ],
   "source": [
    "# Find the shortest path\n",
    "shortest_path = nx.shortest_path(X, source=random_node1, target=random_node2)\n",
    "\n",
    "# Find the shortest path length\n",
    "shortest_path_length = nx.shortest_path_length(X, source=random_node1, target=random_node2)\n",
    "\n",
    "print(\"Random Node 1:\", random_node1)\n",
    "print(\"Random Node 2:\", random_node2)\n",
    "print(\"Shortest Path between {} and {}: {}\".format(random_node1, random_node2, shortest_path))\n",
    "print(\"Shortest Path Length between {} and {}: {}\".format(random_node1, random_node2, shortest_path_length))"
   ]
  },
  {
   "cell_type": "markdown",
   "id": "be35395e-08d4-4e51-ba2e-61c0ab5776eb",
   "metadata": {},
   "source": [
    "Let's take a look at the number of connected components..."
   ]
  },
  {
   "cell_type": "code",
   "execution_count": 42,
   "id": "2cc42edc-76ee-46bd-b6f8-fe4625ff435e",
   "metadata": {
    "tags": []
   },
   "outputs": [
    {
     "name": "stdout",
     "output_type": "stream",
     "text": [
      "Number of Strongly Connected Components: 12248\n"
     ]
    }
   ],
   "source": [
    "import networkx as nx\n",
    "\n",
    "# Compute strongly connected components (SCCs)\n",
    "strongly_connected_components = nx.strongly_connected_components(X)\n",
    "\n",
    "# Count the number of strongly connected components\n",
    "num_scc = len(list(strongly_connected_components))\n",
    "\n",
    "# Print the number of strongly connected components\n",
    "print(f\"Number of Strongly Connected Components: {num_scc}\")"
   ]
  },
  {
   "cell_type": "markdown",
   "id": "5c97a2cd-0845-4244-b0f1-09e2bc4de777",
   "metadata": {},
   "source": [
    "We have many SCCs (over 12K). Let's extract the Giant SCC using the code below."
   ]
  },
  {
   "cell_type": "code",
   "execution_count": 46,
   "id": "ccb07ee5-295c-43a6-8696-7150ff6f42dc",
   "metadata": {
    "tags": []
   },
   "outputs": [
    {
     "name": "stdout",
     "output_type": "stream",
     "text": [
      "GSCC is strongly connected: True\n"
     ]
    }
   ],
   "source": [
    "strongly_connected_components = list(nx.strongly_connected_components(X))\n",
    "\n",
    "# Find the largest SCC\n",
    "largest_scc = max(strongly_connected_components, key=len)\n",
    "\n",
    "# Create the subgraph of X induced by the largest SCC\n",
    "GSCC = X.subgraph(largest_scc).copy()\n",
    "\n",
    "# Check if GSCC is strongly connected\n",
    "is_strongly_connected = nx.is_strongly_connected(GSCC)\n",
    "print(f\"GSCC is strongly connected: {is_strongly_connected}\")"
   ]
  },
  {
   "cell_type": "markdown",
   "id": "ce8ebfe9-c191-4fd3-9857-5497556aae9d",
   "metadata": {},
   "source": [
    "With our graph prepared, we proceed to compute the lengths of the shortest paths for a random subset of pairs of nodes (using a shortest_path_length method provided by NetworkX)."
   ]
  },
  {
   "cell_type": "code",
   "execution_count": 50,
   "id": "00ee1e93-c306-4331-9ecd-8dcf6d9d5354",
   "metadata": {
    "tags": []
   },
   "outputs": [
    {
     "data": {
      "image/png": "[encoded data removed]",
      "text/plain": [
       "<Figure size 640x480 with 1 Axes>"
      ]
     },
     "metadata": {},
     "output_type": "display_data"
    },
    {
     "name": "stdout",
     "output_type": "stream",
     "text": [
      "Average Shortest Path Length: 4.917722799376436\n"
     ]
    }
   ],
   "source": [
    "import networkx as nx\n",
    "import random\n",
    "import matplotlib.pyplot as plt\n",
    "\n",
    "# Randomly select 10,000 pairs of nodes\n",
    "num_pairs = 100000\n",
    "nodes = list(X.nodes())\n",
    "random_pairs = [random.sample(nodes, 2) for _ in range(num_pairs)]\n",
    "\n",
    "# Compute the shortest path length for each pair\n",
    "path_lengths = []\n",
    "for (u, v) in random_pairs:\n",
    "    try:\n",
    "        length = nx.shortest_path_length(X, source=u, target=v)\n",
    "        path_lengths.append(length)\n",
    "    except nx.NetworkXNoPath:\n",
    "        # No path exists between u and v, ignore this pair\n",
    "        continue\n",
    "\n",
    "# Plot a histogram of the shortest path lengths\n",
    "plt.hist(path_lengths, bins=range(min(path_lengths), max(path_lengths) + 1), alpha=0.7, edgecolor='black')\n",
    "plt.title('Histogram of Shortest Path Lengths')\n",
    "plt.xlabel('Path Length')\n",
    "plt.ylabel('Frequency')\n",
    "plt.show()\n",
    "\n",
    "# Step 4: Calculate the average shortest path length\n",
    "average_length = sum(path_lengths) / len(path_lengths)\n",
    "print(f\"Average Shortest Path Length: {average_length}\")\n"
   ]
  },
  {
   "cell_type": "markdown",
   "id": "6d2416cb-73a3-4c42-a6ce-ee88c8866e1c",
   "metadata": {},
   "source": [
    "Analyzing the distribution of shortest path lengths across the network allows us to understand the \"small-world\" nature of social networks. We calculate the average shortest path length and visualize the distribution to assess how closely connected the users are, on average. This analysis helps in understanding the overall navigability and connectivity of the social network."
   ]
  }
 ],
 "metadata": {
  "kernelspec": {
   "display_name": "Python 3 (ipykernel)",
   "language": "python",
   "name": "python3"
  },
  "language_info": {
   "codemirror_mode": {
    "name": "ipython",
    "version": 3
   },
   "file_extension": ".py",
   "mimetype": "text/x-python",
   "name": "python",
   "nbconvert_exporter": "python",
   "pygments_lexer": "ipython3",
   "version": "3.11.5"
  }
 },
 "nbformat": 4,
 "nbformat_minor": 5
}
