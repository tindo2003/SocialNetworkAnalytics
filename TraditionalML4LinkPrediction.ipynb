{
  "nbformat": 4,
  "nbformat_minor": 0,
  "metadata": {
    "colab": {
      "provenance": [],
      "authorship_tag": "ABX9TyMb2kRAlP7IHUqXSDK2P4dS",
      "include_colab_link": true
    },
    "kernelspec": {
      "name": "python3",
      "display_name": "Python 3"
    },
    "language_info": {
      "name": "python"
    }
  },
  "cells": [
    {
      "cell_type": "markdown",
      "metadata": {
        "id": "view-in-github",
        "colab_type": "text"
      },
      "source": [
        "<a href=\"https://colab.research.google.com/github/vmpreciado/NETS3120/blob/main/TraditionalML4LinkPrediction.ipynb\" target=\"_parent\"><img src=\"https://colab.research.google.com/assets/colab-badge.svg\" alt=\"Open In Colab\"/></a>"
      ]
    },
    {
      "cell_type": "markdown",
      "source": [
        "In this notebook, we illustrate the use of Machine Learning (ML) for link suggestions in the Facebook (FB) graph. We will follow a traditional ML approach that involves manually selecting features, creating a model based on logistic regression, training it, and then evaluating its performance. Let's start by loading the Facebook graph:"
      ],
      "metadata": {
        "id": "3K5pu9V5qWLK"
      }
    },
    {
      "cell_type": "code",
      "execution_count": 1,
      "metadata": {
        "colab": {
          "base_uri": "https://localhost:8080/"
        },
        "id": "QIlW4VFHnn9S",
        "outputId": "f025cdf5-01af-47ff-e48a-c25f50f9beaf"
      },
      "outputs": [
        {
          "output_type": "stream",
          "name": "stdout",
          "text": [
            "Drive already mounted at /content/drive; to attempt to forcibly remount, call drive.mount(\"/content/drive\", force_remount=True).\n",
            "Number of nodes: 4039\n",
            "Number of edges: 88234\n"
          ]
        }
      ],
      "source": [
        "# Import necessary libraries\n",
        "from google.colab import drive\n",
        "import networkx as nx\n",
        "import pandas as pd\n",
        "import numpy as np\n",
        "import random\n",
        "from sklearn.model_selection import train_test_split\n",
        "from sklearn.linear_model import LogisticRegression\n",
        "from sklearn.metrics import classification_report, accuracy_score\n",
        "\n",
        "# Mount Google Drive: This is used if you decided to work in Colab using files in your Google Drive\n",
        "drive.mount('/content/drive')\n",
        "\n",
        "# Path to your file on Google Drive: 1) Download facebook_combined.txt.gz; 2) Decompressed as a .txt; 3) Rename and locate wherever you like...\n",
        "file_path = '/content/drive/My Drive/ColabNotebooks/FacebookSmall.txt'\n",
        "\n",
        "# Create a new graph and name it FB\n",
        "FB = nx.Graph()# Create a graph from the edgelist file\n",
        "FB = nx.read_edgelist(file_path, create_using=nx.Graph(), nodetype=int)\n",
        "\n",
        "# Perform initial checks: Make sure the number of nodes and edges are correct...\n",
        "print(f\"Number of nodes: {FB.number_of_nodes()}\")\n",
        "print(f\"Number of edges: {FB.number_of_edges()}\")"
      ]
    },
    {
      "cell_type": "markdown",
      "source": [
        "First, we need to create features for each pair of nodes that can be used to predict whether a link should exist between them. Some common features for link prediction in social networks include: # of Common Neighbors, Jaccard Coefficient, or\n",
        "the product of the degrees of the two nodes."
      ],
      "metadata": {
        "id": "iciuzCPMq6Vx"
      }
    },
    {
      "cell_type": "code",
      "source": [
        "# Feature Engineering\n",
        "def compute_features(pair):\n",
        "    u, v = pair\n",
        "    common_neighbors = len(sorted(nx.common_neighbors(FB, u, v)))\n",
        "    jaccard_coefficient = list(nx.jaccard_coefficient(FB, [pair]))[0][2]\n",
        "    preferential_attachment = list(nx.preferential_attachment(FB, [pair]))[0][2] # this index is equal to the product of the degrees\n",
        "\n",
        "    features = {\n",
        "        \"common_neighbors\": common_neighbors,\n",
        "        \"jaccard_coefficient\": jaccard_coefficient,\n",
        "        \"preferential_attachment\": preferential_attachment,\n",
        "    }\n",
        "    return features"
      ],
      "metadata": {
        "id": "hZ9iPoiknpQ3"
      },
      "execution_count": 2,
      "outputs": []
    },
    {
      "cell_type": "markdown",
      "source": [
        "Second, for supervised learning, we need to construct a dataset with examples of connected pair of nodes (positive examples) and disconnected pair of nodes (negative examples). We can use existing links in your graph as positive examples. For negative examples, we can randomly sample pairs of nodes that are not connected. Because the graph is sparse, there are many more negative examples that positive examples. This issue is called 'Class Imbalance' and it can dramatically hurt the performance of our logistic classifier. To overcome this issue, we subsample the number of negative examples so that we have as many negative examples as positive examples."
      ],
      "metadata": {
        "id": "wguuG_wvro0W"
      }
    },
    {
      "cell_type": "code",
      "source": [
        "# Constructing the Dataset\n",
        "positive_samples = [(u, v) for u, v in FB.edges()]\n",
        "negative_samples = [(u, v) for u, v in nx.non_edges(FB) if not FB.has_edge(u, v)]\n",
        "negative_samples = random.sample(negative_samples, len(positive_samples)) # Balancing classes with randomization\n",
        "\n",
        "# Compute features for all samples\n",
        "all_samples = positive_samples + negative_samples\n",
        "labels = [1] * len(positive_samples) + [0] * len(negative_samples)\n",
        "features = [compute_features(pair) for pair in all_samples]\n",
        "\n",
        "# Convert to DataFrame\n",
        "df = pd.DataFrame(features)\n",
        "df['label'] = labels"
      ],
      "metadata": {
        "id": "x1tiP8_4r4Aq"
      },
      "execution_count": 3,
      "outputs": []
    },
    {
      "cell_type": "markdown",
      "source": [
        "Let's take a look at the dataframe..."
      ],
      "metadata": {
        "id": "7dDe0_qLa_-7"
      }
    },
    {
      "cell_type": "code",
      "source": [
        "print(df.head()) # This line shows the first 5 (positive) samples\n",
        "print(df.tail()) # This line shows the last 5 (negative) samples\n",
        "(f\"Number of samples in each class: {len(positive_samples)}\")"
      ],
      "metadata": {
        "id": "c5_pk2M0bDGP",
        "outputId": "90870966-5757-43f4-ab8b-105fc782010d",
        "colab": {
          "base_uri": "https://localhost:8080/",
          "height": 310
        }
      },
      "execution_count": 4,
      "outputs": [
        {
          "output_type": "stream",
          "name": "stdout",
          "text": [
            "   common_neighbors  jaccard_coefficient  preferential_attachment  label\n",
            "0                16             0.045977                     5899      1\n",
            "1                 9             0.025862                     3470      1\n",
            "2                16             0.045977                     5899      1\n",
            "3                 9             0.025862                     3470      1\n",
            "4                12             0.034483                     4511      1\n",
            "        common_neighbors  jaccard_coefficient  preferential_attachment  label\n",
            "176463                 1             0.013333                     1044      0\n",
            "176464                 0             0.000000                      196      0\n",
            "176465                 0             0.000000                      120      0\n",
            "176466                 0             0.000000                      234      0\n",
            "176467                 4             0.117647                      280      0\n"
          ]
        },
        {
          "output_type": "execute_result",
          "data": {
            "text/plain": [
              "'Number of samples in each class: 88234'"
            ],
            "application/vnd.google.colaboratory.intrinsic+json": {
              "type": "string"
            }
          },
          "metadata": {},
          "execution_count": 4
        }
      ]
    },
    {
      "cell_type": "markdown",
      "source": [
        "Third, let's split our dataset into training and test sets. A common split ratio is 50% training and 50% testing (since we are not going to do model selection, we do not need a validation subset). We use the training set to train our model and the test set to evaluate the model's performance."
      ],
      "metadata": {
        "id": "q_N5Lq7Ar4R2"
      }
    },
    {
      "cell_type": "code",
      "source": [
        "# Data Splitting\n",
        "X_train, X_test, y_train, y_test = train_test_split(df.drop('label', axis=1), df['label'], test_size=0.3, random_state=42)"
      ],
      "metadata": {
        "id": "RXgIv9uusLAn"
      },
      "execution_count": 5,
      "outputs": []
    },
    {
      "cell_type": "markdown",
      "source": [
        "Since we are dealing with a binary classification problem (link exists or not), we can use a simple Logistic Regression."
      ],
      "metadata": {
        "id": "4aY6BZVgsLWO"
      }
    },
    {
      "cell_type": "code",
      "source": [
        "# Model Selection and Training\n",
        "model = LogisticRegression(max_iter=1000)\n",
        "model.fit(X_train, y_train)"
      ],
      "metadata": {
        "colab": {
          "base_uri": "https://localhost:8080/",
          "height": 85
        },
        "id": "-EMIwJH6sgEG",
        "outputId": "1c6e3593-6184-4db1-d563-d8d614a1473d"
      },
      "execution_count": 6,
      "outputs": [
        {
          "output_type": "execute_result",
          "data": {
            "text/plain": [
              "LogisticRegression(max_iter=1000)"
            ],
            "text/html": [
              "<style>#sk-container-id-1 {color: black;background-color: white;}#sk-container-id-1 pre{padding: 0;}#sk-container-id-1 div.sk-toggleable {background-color: white;}#sk-container-id-1 label.sk-toggleable__label {cursor: pointer;display: block;width: 100%;margin-bottom: 0;padding: 0.3em;box-sizing: border-box;text-align: center;}#sk-container-id-1 label.sk-toggleable__label-arrow:before {content: \"▸\";float: left;margin-right: 0.25em;color: #696969;}#sk-container-id-1 label.sk-toggleable__label-arrow:hover:before {color: black;}#sk-container-id-1 div.sk-estimator:hover label.sk-toggleable__label-arrow:before {color: black;}#sk-container-id-1 div.sk-toggleable__content {max-height: 0;max-width: 0;overflow: hidden;text-align: left;background-color: #f0f8ff;}#sk-container-id-1 div.sk-toggleable__content pre {margin: 0.2em;color: black;border-radius: 0.25em;background-color: #f0f8ff;}#sk-container-id-1 input.sk-toggleable__control:checked~div.sk-toggleable__content {max-height: 200px;max-width: 100%;overflow: auto;}#sk-container-id-1 input.sk-toggleable__control:checked~label.sk-toggleable__label-arrow:before {content: \"▾\";}#sk-container-id-1 div.sk-estimator input.sk-toggleable__control:checked~label.sk-toggleable__label {background-color: #d4ebff;}#sk-container-id-1 div.sk-label input.sk-toggleable__control:checked~label.sk-toggleable__label {background-color: #d4ebff;}#sk-container-id-1 input.sk-hidden--visually {border: 0;clip: rect(1px 1px 1px 1px);clip: rect(1px, 1px, 1px, 1px);height: 1px;margin: -1px;overflow: hidden;padding: 0;position: absolute;width: 1px;}#sk-container-id-1 div.sk-estimator {font-family: monospace;background-color: #f0f8ff;border: 1px dotted black;border-radius: 0.25em;box-sizing: border-box;margin-bottom: 0.5em;}#sk-container-id-1 div.sk-estimator:hover {background-color: #d4ebff;}#sk-container-id-1 div.sk-parallel-item::after {content: \"\";width: 100%;border-bottom: 1px solid gray;flex-grow: 1;}#sk-container-id-1 div.sk-label:hover label.sk-toggleable__label {background-color: #d4ebff;}#sk-container-id-1 div.sk-serial::before {content: \"\";position: absolute;border-left: 1px solid gray;box-sizing: border-box;top: 0;bottom: 0;left: 50%;z-index: 0;}#sk-container-id-1 div.sk-serial {display: flex;flex-direction: column;align-items: center;background-color: white;padding-right: 0.2em;padding-left: 0.2em;position: relative;}#sk-container-id-1 div.sk-item {position: relative;z-index: 1;}#sk-container-id-1 div.sk-parallel {display: flex;align-items: stretch;justify-content: center;background-color: white;position: relative;}#sk-container-id-1 div.sk-item::before, #sk-container-id-1 div.sk-parallel-item::before {content: \"\";position: absolute;border-left: 1px solid gray;box-sizing: border-box;top: 0;bottom: 0;left: 50%;z-index: -1;}#sk-container-id-1 div.sk-parallel-item {display: flex;flex-direction: column;z-index: 1;position: relative;background-color: white;}#sk-container-id-1 div.sk-parallel-item:first-child::after {align-self: flex-end;width: 50%;}#sk-container-id-1 div.sk-parallel-item:last-child::after {align-self: flex-start;width: 50%;}#sk-container-id-1 div.sk-parallel-item:only-child::after {width: 0;}#sk-container-id-1 div.sk-dashed-wrapped {border: 1px dashed gray;margin: 0 0.4em 0.5em 0.4em;box-sizing: border-box;padding-bottom: 0.4em;background-color: white;}#sk-container-id-1 div.sk-label label {font-family: monospace;font-weight: bold;display: inline-block;line-height: 1.2em;}#sk-container-id-1 div.sk-label-container {text-align: center;}#sk-container-id-1 div.sk-container {/* jupyter's `normalize.less` sets `[hidden] { display: none; }` but bootstrap.min.css set `[hidden] { display: none !important; }` so we also need the `!important` here to be able to override the default hidden behavior on the sphinx rendered scikit-learn.org. See: https://github.com/scikit-learn/scikit-learn/issues/21755 */display: inline-block !important;position: relative;}#sk-container-id-1 div.sk-text-repr-fallback {display: none;}</style><div id=\"sk-container-id-1\" class=\"sk-top-container\"><div class=\"sk-text-repr-fallback\"><pre>LogisticRegression(max_iter=1000)</pre><b>In a Jupyter environment, please rerun this cell to show the HTML representation or trust the notebook. <br />On GitHub, the HTML representation is unable to render, please try loading this page with nbviewer.org.</b></div><div class=\"sk-container\" hidden><div class=\"sk-item\"><div class=\"sk-estimator sk-toggleable\"><input class=\"sk-toggleable__control sk-hidden--visually\" id=\"sk-estimator-id-1\" type=\"checkbox\" checked><label for=\"sk-estimator-id-1\" class=\"sk-toggleable__label sk-toggleable__label-arrow\">LogisticRegression</label><div class=\"sk-toggleable__content\"><pre>LogisticRegression(max_iter=1000)</pre></div></div></div></div></div>"
            ]
          },
          "metadata": {},
          "execution_count": 6
        }
      ]
    },
    {
      "cell_type": "markdown",
      "source": [
        "Once our model is trained, we can evaluate our model's performance on the test set using metrics such as accuracy, precision, recall, F1 score, or ROC AUC. This will give you an idea of how well your model can predict new links in the network."
      ],
      "metadata": {
        "id": "Ps9hSbTdsgu0"
      }
    },
    {
      "cell_type": "code",
      "source": [
        "# Evaluation\n",
        "predictions = model.predict(X_test)\n",
        "print(classification_report(y_test, predictions))\n",
        "print(\"Accuracy:\", accuracy_score(y_test, predictions))"
      ],
      "metadata": {
        "colab": {
          "base_uri": "https://localhost:8080/"
        },
        "id": "ZQs7EEZVssFu",
        "outputId": "da4cda02-21da-455d-d6ee-a1c5ba3bbd50"
      },
      "execution_count": 7,
      "outputs": [
        {
          "output_type": "stream",
          "name": "stdout",
          "text": [
            "              precision    recall  f1-score   support\n",
            "\n",
            "           0       0.93      0.99      0.96     26548\n",
            "           1       0.98      0.93      0.96     26393\n",
            "\n",
            "    accuracy                           0.96     52941\n",
            "   macro avg       0.96      0.96      0.96     52941\n",
            "weighted avg       0.96      0.96      0.96     52941\n",
            "\n",
            "Accuracy: 0.9568387450180389\n"
          ]
        }
      ]
    },
    {
      "cell_type": "markdown",
      "source": [
        "Once trained and evaluated, we can use our model to score potential new links in the network. For a given user, we can predict the likelihood of a link for all other users they are not currently connected to and suggest the links with the highest scores.\n",
        "\n",
        "Remember, the quality of your predictions heavily depends on the features you choose and the balance of your dataset. You should experiment with different features to find the best approach for your specific network."
      ],
      "metadata": {
        "id": "ZPhZuLu1ssaj"
      }
    }
  ]
}