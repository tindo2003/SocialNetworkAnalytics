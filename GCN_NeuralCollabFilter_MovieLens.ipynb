{
 "cells": [
  {
   "cell_type": "markdown",
   "id": "30414242",
   "metadata": {},
   "source": [
    "# Collaborative Filtering with Graph Neural Networks\n",
    "\n",
    "(Credit: This Notebook is heavily based on the work of Prof. A. Ribeiro (ESE, Penn). If you want to learn more about GNNs, I suggest you take Prof. Ribeiro's class entitled \"Graph Neural Networks\".)\n",
    "\n",
    "The objective of this lab is to design a recommendation system that predicts the ratings that customers would give to a certain product. Say, the rating that a moviegoer would give to a specific movie, or the rating that an online shopper would give to a particular offering. To make these predictions we leverage the ratings that customers have given to this or similar products in the past. This approach to ratings predictions is called Neural Collaborative Filtering, which is an extension of collaborative filtering involving Graph Neural Networks. \n",
    "\n",
    "We model collaborative filtering as a problem that involves a graph $\\mathbf{G}$ and graph signals $\\mathbf{x}_i$ supported on the nodes of the graph, where each node represents an individual (a moviegoer). Nodes $m$ of the graph $\\mathbf{G}$ represent different movies and the weight of each edge $G_{m_1,m_2}$ is equal to the Cosine Similarities between movies $m_1$ and $m_2$. The entries of a graph signal $\\mathbf{x}_i$ represent the ratings that individual $i$ has given to a particular movie. \n",
    "\n",
    "The motivation for developing a recommendation system is that each individual has rated a small number of movies. Thus, the ratings vector $\\mathbf{x}_i$ contains only very few entries that correspond to rated movies. For the remaining entries, we adopt the convention that $[\\mathbf{x}_i]_m=0$ (i.e., the rating of individual $i$ assigns to movie $m$). Our goal is to learn a function that takes as input the vector $\\mathbf{x}_i$  of available ratings for a particular movie and the weighted graph $\\mathbf{G}$, and fills in predictions for the ratings that are not available. \n",
    "\n",
    "We will develop and evaluate a graph neural network (GNN) for making these rating predictions.\n"
   ]
  },
  {
   "cell_type": "markdown",
   "id": "207a46e5",
   "metadata": {},
   "source": [
    "\n",
    "## Environment setup\n",
    "\n",
    "Before we begin we need to import the necessary Python Packages. We use Numpy to load data, PyTorch for training, and matplotlib to plot and visualize results.\n"
   ]
  },
  {
   "cell_type": "code",
   "execution_count": 1,
   "id": "fec066d2",
   "metadata": {
    "scrolled": false,
    "ExecuteTime": {
     "end_time": "2024-04-16T15:54:46.749840Z",
     "start_time": "2024-04-16T15:54:45.938284Z"
    }
   },
   "outputs": [],
   "source": [
    "import numpy as np\n",
    "import torch; torch.set_default_dtype(torch.float64) # all tensors will use double-precision floating-point arithmetic\n",
    "import torch.nn as nn\n",
    "import torch.optim as optim\n",
    "import copy\n",
    "import pickle as pkl # for efficient storage of Python objects into a .p file\n",
    "import math\n",
    "import matplotlib.pyplot as plt"
   ]
  },
  {
   "cell_type": "markdown",
   "id": "cc066d71",
   "metadata": {},
   "source": [
    "\n",
    "In the loading of the environment we define shortcuts for calling the torch.nn and the torch.optim subpackages. These are, respectively, the packages that implement neural network functionalities and optimization functionalities.\n"
   ]
  },
  {
   "cell_type": "markdown",
   "id": "c6f4b8b0",
   "metadata": {},
   "source": [
    "\n",
    "## Movie Rating Data: Graph, Inputs, and Outputs\n",
    "\n",
    "As a specific example, we use the MovieLens-100k dataset. The MovieLens-100k dataset consists of ratings given by users to movies (products). The existing movie ratings are integer values between 1 and 5. Therefore, the data are represented by a matrix $X$ where $x_{im}$ is the rating that user $i$ gives to movie $m$. If user $i$ has not rated movie $m$, then $x_{ip} = 0$. We see that each row of this matrix corresponds to a vector of ratings $\\mathbf{x}_i$ of a particular user.\n",
    "\n",
    "To build the collaborative filtering system, we use the rating history of all movies to compute a graph of similarities, where nodes are movies and the weights of edges are cosine similarities between movies. The graph can be constructed from the raw  movie rating matrix $X$. To make matters simpler, we have constructed this graph already and are making it available as part of the dataset as a '.p' file, where we have also included a partition of the data into a training and testing subsets. \n"
   ]
  },
  {
   "cell_type": "code",
   "execution_count": 2,
   "id": "3492179e",
   "metadata": {
    "ExecuteTime": {
     "end_time": "2024-04-16T15:54:46.796170Z",
     "start_time": "2024-04-16T15:54:46.781303Z"
    }
   },
   "outputs": [],
   "source": [
    "# The following command loads the data. For this to work the file \"movie_data.p\" \n",
    "# must be uploaded to this notebook. To do that, navigate to the Jupyter Notebook \n",
    "# interface home page and use the “Upload” option.\n",
    "#\n",
    "contents = pkl.load(open(\"Data/movie_data.p\",\"rb\")) # Loads the .p file into a 'content' object.\n",
    "data = contents['data'] # Extracts the content associated with the key 'data' and stores it in data.\n",
    "\n",
    "# The data file contains a graph of movie similarities, stored in the variable 'S', i.e., the matrix of cosine similarities is S. This is the graph we will use to run the GNN, where each node is a movie.\n",
    "#\n",
    "S = data['S'] # Retrieve the similarity matrix in data and save it in S\n",
    "P = S.shape[0] # Gets the number of rows (# of movies) in the matrix S\n",
    "\n",
    "# The data file contains a training set with entries (x, y, p).\n",
    "# These entries are stored in the arrays xTrain, yTrain, and pTrain.\n",
    "# All of these arrays have nTrain columns, with each \n",
    "# column corresponding to a different entry in the dataset.\n",
    "#\n",
    "xTrain = data['train']['x'] # Available ratings for making predictions. \n",
    "yTrain = data['train']['y'] # Holds the target rating to be predicted\n",
    "pTrain = data['train']['p'] # Index of the movie whose rating is being predicted\n",
    "nTrain = xTrain.shape[0]    # Number of columns in xTrain (# of training examples)\n",
    "\n",
    "# The data file contains a test set with entries (x, y, p).\n",
    "# These entries are stored in the arrays xTest, yTest, and pTest.\n",
    "# All of these arrays have nTest columns, with each \n",
    "# column corresponding to a different entry in the dataset.\n",
    "#\n",
    "xTest = data['test']['x'] # Available ratings for making predictions. \n",
    "yTest = data['test']['y'] # Rating of the movie to be predicted\n",
    "pTest = data['test']['p'] # Index of the movie whose rating is being predicted\n",
    "nTest = xTest.shape[0]    # Number of test entries"
   ]
  },
  {
   "cell_type": "markdown",
   "source": [
    "In this example, we've adjusted the dataset to include only 200 movies, taking into consideration the computational constraints of your laptops. Below are the details for other dataset sizes:"
   ],
   "metadata": {
    "collapsed": false
   },
   "id": "3b62b47296780d6e"
  },
  {
   "cell_type": "code",
   "execution_count": 3,
   "outputs": [
    {
     "name": "stdout",
     "output_type": "stream",
     "text": [
      "Dimension of (reduced size) graph:  200 x 200\n",
      "Number of training points:  2756\n",
      "xTrain matrix of dimensions  2756 x 200 \n",
      " tensor([[0., 0., 0.,  ..., 0., 0., 0.],\n",
      "        [0., 0., 0.,  ..., 0., 0., 0.],\n",
      "        [0., 0., 0.,  ..., 0., 0., 0.],\n",
      "        ...,\n",
      "        [0., 5., 0.,  ..., 0., 0., 0.],\n",
      "        [0., 5., 0.,  ..., 0., 0., 0.],\n",
      "        [0., 0., 0.,  ..., 0., 0., 0.]])\n",
      "yTrain vector of dimension:  2756 x 1 \n",
      " tensor([5., 4., 5.,  ..., 5., 3., 2.])\n",
      "pTrain vector of dimension:  2756 x 1 \n",
      " tensor([37,  0,  4,  ..., 11, 24, 37], dtype=torch.int32)\n"
     ]
    }
   ],
   "source": [
    "# Print dimensions of different objects\n",
    "print('Dimension of (reduced size) graph: ',S.shape[0],'x',S.shape[1])\n",
    "print('Number of training points: ',nTrain)\n",
    "print('xTrain matrix of dimensions ',xTrain.shape[0],'x',xTrain.shape[2],'\\n',xTrain[:,0,:])\n",
    "print('yTrain vector of dimension: ',yTrain.shape[0],'x',1, '\\n',yTrain)\n",
    "print('pTrain vector of dimension: ',pTrain.shape[0],'x',1, '\\n',pTrain)"
   ],
   "metadata": {
    "collapsed": false,
    "ExecuteTime": {
     "end_time": "2024-04-16T15:54:46.800212Z",
     "start_time": "2024-04-16T15:54:46.797085Z"
    }
   },
   "id": "a11bf4f379e57511"
  },
  {
   "cell_type": "markdown",
   "source": [
    "... and for the testing objects:"
   ],
   "metadata": {
    "collapsed": false
   },
   "id": "5853286dd4b29255"
  },
  {
   "cell_type": "code",
   "execution_count": 4,
   "outputs": [
    {
     "name": "stdout",
     "output_type": "stream",
     "text": [
      "Number of testing points:  288\n",
      "Number of testing points:  288\n",
      "xTest matrix of dimensions  288 x 200 \n",
      " tensor([[0., 0., 0.,  ..., 0., 0., 0.],\n",
      "        [0., 0., 0.,  ..., 0., 0., 0.],\n",
      "        [0., 0., 0.,  ..., 0., 0., 0.],\n",
      "        ...,\n",
      "        [0., 0., 0.,  ..., 0., 0., 0.],\n",
      "        [0., 0., 0.,  ..., 0., 0., 0.],\n",
      "        [0., 0., 0.,  ..., 0., 0., 0.]])\n",
      "yTest vector of dimension:  288 x 1 \n",
      " tensor([4., 3., 4., 4., 3., 5., 4., 5., 2., 2.]) ...\n",
      "pTest vector of dimension:  288 x 1 \n",
      " tensor([37, 44,  0, 11, 44,  4, 37, 11,  4, 44], dtype=torch.int32) ...\n"
     ]
    }
   ],
   "source": [
    "print('Number of testing points: ',nTest)\n",
    "print('Number of testing points: ',nTest)\n",
    "print('xTest matrix of dimensions ',xTest.shape[0],'x',xTest.shape[2],'\\n',xTest[:,0,:])\n",
    "print('yTest vector of dimension: ',yTest.shape[0],'x',1, '\\n',yTest[:10],'...')\n",
    "print('pTest vector of dimension: ',pTest.shape[0],'x',1, '\\n',pTest[:10],'...')"
   ],
   "metadata": {
    "collapsed": false,
    "ExecuteTime": {
     "end_time": "2024-04-16T15:54:46.803257Z",
     "start_time": "2024-04-16T15:54:46.800863Z"
    }
   },
   "id": "a8b1fe073345286c"
  },
  {
   "cell_type": "markdown",
   "id": "00c396da",
   "metadata": {},
   "source": [
    "\n",
    "## Movie Similarity Graph\n",
    "\n",
    "To help visualize the movie recommendation problem it is instructive to plot the $200\\times 200$ movie similarity matrix $\\mathbf{S}$. Recall that is a weighted matrix in which each of the entries represents a similarity score between different movies."
   ]
  },
  {
   "cell_type": "code",
   "execution_count": 5,
   "id": "88ceac98",
   "metadata": {
    "ExecuteTime": {
     "end_time": "2024-04-16T15:54:46.932961Z",
     "start_time": "2024-04-16T15:54:46.804559Z"
    }
   },
   "outputs": [
    {
     "data": {
      "text/plain": "<matplotlib.image.AxesImage at 0x14a18ced0>"
     },
     "execution_count": 5,
     "metadata": {},
     "output_type": "execute_result"
    },
    {
     "data": {
      "text/plain": "<Figure size 1200x1000 with 1 Axes>",
      "image/png": "[encoded data removed]"
     },
     "metadata": {},
     "output_type": "display_data"
    }
   ],
   "source": [
    "plt.figure(1, figsize=(12, 10))\n",
    "plt.title('Pattern of the Movie Recommendation Adjacency Matrix')\n",
    "plt.xlabel('Movie index')\n",
    "plt.ylabel('Movieindex')\n",
    "plt.imshow(S.numpy())   # S is a PyTorch tensor and needs to be converted to a NumPy array for visualization"
   ]
  },
  {
   "cell_type": "markdown",
   "id": "9efaea5c",
   "metadata": {},
   "source": [
    "\n",
    "## Mean Squared Error for Training and Testing\n",
    "\n",
    "We would like to learn a function $\\hat{\\mathbf{y}}_i((S,\\mathbf{x}_{i}); \\mathcal{W})$ such that $[\\hat{\\mathbf{y}}_i]_m$  makes a rating predictions of movie $m$ for individual $i$. The input vector $\\mathbf{x}_{i}$ contains all the available ratings for individual $i$. We will we  evaluate the quality of our prediction for the rating of movie $m$ from individual $i$ using the squared loss:\n",
    "\n",
    "\\begin{align}\n",
    "   \\ell \\big([\\hat{\\mathbf{y}}_i]_m; \\mathcal{W}), y_{im} \\big)\n",
    "      ~=~\n",
    "               \\Big[ \\big([\\hat{\\mathbf{y}}_i]_m \\big) - y_{im} \\Big]^2\n",
    "\\end{align}\n",
    "\n",
    "where $y_{im}$ is the actual rating that invidivual $i$ gave to movie $m$. We remark that the fact that the vector $\\hat{\\mathbf{y}}_i$ makes predictions for all movies is important during operation. The idea of the recommendation system is to identify the subset of products that the customer would rate highly. They are the ones that we will recommend. This is why we want a system that has a graph signal as an output even though the available dataset has scalar outputs.\n"
   ]
  },
  {
   "cell_type": "code",
   "execution_count": 6,
   "id": "24bb1929",
   "metadata": {
    "ExecuteTime": {
     "end_time": "2024-04-16T15:54:46.936382Z",
     "start_time": "2024-04-16T15:54:46.933887Z"
    }
   },
   "outputs": [],
   "source": [
    "# Movie MSE loss function. The inputs are: \n",
    "#\n",
    "#    yHat: A set of rating estimates. It includes estimates of all movies.\n",
    "#    y: A specific rating of a specific movie\n",
    "#    p: The index of the movie whose rating is given by y\n",
    "#\n",
    "# This function evaluates the square of comparing yHat(p) with y. The function \n",
    "# is overloaded to accept as an input tensors with multiple movie ratings. If\n",
    "# given multiple movie ratings it computes the mean squared error (the error\n",
    "# averaged over the dataset)\n",
    "# \n",
    "def movieMSELoss(yHat, y, idxMovie):\n",
    "    \n",
    "    # Isolate the predictions in yHat (a tensor containing estimated ratings for all movies) that we will use for comparison.\n",
    "    #\n",
    "    prediction = yHat[range(yHat.shape[0]),:,idxMovie.numpy()].squeeze()\n",
    "    #\n",
    "    #The three indexes used above, '[range(yHat.shape[0]),:,idxMovie.numpy()]', are used to correctly select the estimated ratings from yHat for the specific movies identified by idxMovie across all instances/users in the batch. The .squeeze() method is needed for dimension match between y and yHat.\n",
    "\n",
    "    # Assign the actual ratings y to a variable truth\n",
    "    truth = y\n",
    "    \n",
    "    # Evaluate squared error averaged over the dataset\n",
    "    mse = nn.MSELoss()\n",
    "    return mse(prediction, truth)"
   ]
  },
  {
   "cell_type": "markdown",
   "id": "89876185",
   "metadata": {},
   "source": [
    "\n",
    "## Graph Filter\n",
    "\n",
    "A parametrization that is convenient for processing graph signals is a graph convolutional filter. To define this operation introduce a filter order $K$ along with filter coefficients $\\mathbf{H}_k$ (in NETS312, this is denoted by $\\mathbf{W}_k$) that we group in the tensor $\\mathcal{H}=[\\mathbf{H}_0,\\ldots, \\mathbf{H}_{K-1}]$ (equivalent to $\\mathcal{W}$ in NETS312).\n",
    "\n",
    "\\begin{equation}\n",
    "\\mathbf{\\Phi}((\\mathbf{S},\\mathbf{X}); \\mathcal{H} ) = \\sum_{k=0}^{K} \\mathbf{S}^k \\mathbf{X}\\, \\mathbf{H}_k\n",
    "\\end{equation}\n",
    "\n",
    "where the output $\\mathbf{\\Phi}$ is also a graph signal and the learnable parameters $\\mathcal{H}$ are the kernel coefficients $\\mathbf{H}_k$.\n",
    "\n",
    "Given the kernel coefficients, the graph operator and the input graph signal, we can then implement a torch.nn.Module class to compute $\\mathbf{\\Phi}$.\n"
   ]
  },
  {
   "cell_type": "code",
   "execution_count": 7,
   "id": "e4404a64",
   "metadata": {
    "ExecuteTime": {
     "end_time": "2024-04-16T15:54:46.941811Z",
     "start_time": "2024-04-16T15:54:46.936036Z"
    }
   },
   "outputs": [],
   "source": [
    "class GraphFilter(nn.Module):\n",
    "    #First we initialize the graph filter class and define the attributes\n",
    "    def __init__(self, gso, k, f_in, f_out, bias): # __init__ is a special method, called constructor, that 'initializes' a newly created objects of this class \n",
    "        super().__init__() # initializes the base class (nn.Module), enabling the module to work correctly within PyTorch\n",
    "        self.gso = torch.tensor(gso) # Stores the graph operator (the CosSim matrix) as a 'torch.Tensor' from the module 'torch'\n",
    "        self.n = gso.shape[0] # number of nodes\n",
    "        self.k = k # kernel length\n",
    "        self.f_in = f_in # feature dimension of the input signal\n",
    "        self.f_out = f_out # feature dimension of the output signal\n",
    "        if bias: # If 'bias'='True'\n",
    "            self.bias = nn.parameter.Parameter(torch.Tensor(self.f_out, 1)) # The 'Parameter' class is defined in a sub-module named 'parameter' within the 'nn' module. This line indicates the tensor 'torch.Tensor(self.f_out, 1)' is a trainable parameter.\n",
    "        self.weight = nn.Parameter(torch.randn(self.f_out, self.k, self.f_in)) # This line initializes a trainable 3rd-order random tensor of the dimensions indicated\n",
    "        self.reset_parameters() # This is a method to initialize weight and bias\n",
    "        \n",
    "    def reset_parameters(self): # Define the method 'reset_parameters' that initializes weight and bias\n",
    "        stdv = 1. / math.sqrt(self.f_in * self.k) # Common heuristic to randomly initialize the values of the trainable weight tensor in order to achieve faster convergence.\n",
    "        torch.nn.init.uniform_(self.weight, -stdv, stdv) # 'torch.nn.init' is a submodule in PyTorch designed to initialize the weights and biases. 'uniform_' is a function within the torch.nn.init submodule. The underscore at the end of the function name indicates that it is an in-place operation, meaning it directly modifies the input tensor. This function fills the tensor with values drawn from a uniform distribution.\n",
    "        \n",
    "        if self.bias is not None:\n",
    "            torch.nn.init.uniform_(self.bias, -stdv, stdv) # Same as above...\n",
    "    \n",
    "    def FilterFunction(self, x): # Defines the operation of the graph filter on input data x. This is where the filtering based on the graph's structure happens.\n",
    "        S = self.gso # graph operator\n",
    "        h = self.weight # trainable parameters\n",
    "        F = h.shape[0] # feature dimension of the output signal\n",
    "        G = h.shape[2] # feature dimension of the input signal\n",
    "        B = x.shape[0] # batch size (# of training examples that are processes together in one iteration)\n",
    "\n",
    "        x = x.reshape([B, 1, G, self.n]) # Reshapes the input signal for matrix multiplication. 'self.n' is the number of nodes; B and G are defined above\n",
    "        S = S.reshape([1, self.n, self.n]) # Reshapes the graph operator for matrix multiplication.\n",
    "        z = x\n",
    "        # The following for-loop is utilized to perform the compute the graph fileter output as a sum over the length of the kernel\n",
    "        for k in range(1, self.k): # 'self.k' is the length of the Kernel\n",
    "            x = torch.matmul(x, S) # Batch-multiply the graph operator matrix 'S' and B training examples of the input signal x using PyTorch matrix multiplication (very efficient)\n",
    "            xS = x.reshape([B, 1, G, self.n])\n",
    "            z = torch.cat((z, xS), dim=1) # The results are concatenated (along dim=1, the second dimension) to form a comprehensive feature representation incorporating the graph structure\n",
    "            \n",
    "        y = torch.matmul(z.permute(0, 3, 1, 2).reshape([B, self.n, self.k*G]), h.reshape([F, self.k*G]).permute(1, 0)).permute(0, 2, 1) # batchsize x output features x number of nodes\n",
    "        \n",
    "        # we add bias to the linear operation\n",
    "        if self.bias is not None:\n",
    "            y = y + self.bias # If there is a bias, it is added to the output y of the graph filtering operation.\n",
    "        return y\n",
    "\n",
    "    def forward(self, x):\n",
    "        return self.FilterFunction(x)\n",
    "    "
   ]
  },
  {
   "cell_type": "markdown",
   "id": "99372137",
   "metadata": {},
   "source": [
    "\n",
    "## Graph Neural Network\n",
    "\n",
    "Graph neural networks (GNNs) extend graph filters by using pointwise nonlinearities which are nonlinear functions that are applied independently to each component of a vector. For a formal definition, begin by introducing a single variable function $\\sigma:\\mathbb{R}\\to\\mathbb{R}$ which we extend to the matrix function $\\sigma:\\mathbb{R}^{n\\times q}\\to\\mathbb{R}^{n\\times q}$ by independent application to each component. Thus, if we have $\\mathbf{U} \\in \\mathbb{R}^{n\\times q}$ the output matrix $\\sigma(\\mathbf{U})$ is such that\n",
    "\n",
    "\\begin{equation}\n",
    "\\sigma\\big(\\,\\mathbf{U}\\,\\big) \\ : \\ \\big[\\,\\sigma\\big(\\,\\mathbf{U}\\,\\big)\\,\\big]_{i,j} = \\sigma\\big(\\,\\mathbf{U}_{i,j}\\,\\big).\n",
    "\\end{equation}\n",
    "\n",
    "In a single layer GNN, the graph signal $\\mathbf{U} = \\sum_{k=0}^{K-1} \\mathbf{U}_k \\mathbf{H}_k$ is passed through a pointwise nonlinear function to produce the output\n",
    "\n",
    "\\begin{equation}\n",
    "\\mathbf{\\Phi}(\\mathbf{X};\\mathcal{H}, \\mathbf{S}) = \\sigma(\\mathbf{U}) = \\sigma \\left( \\sum_{k=0}^{K-1} \\mathbf{S}^k \\mathbf{X} \\mathbf{H}_k \\right) \\ .\n",
    "\\end{equation}\n",
    "\n",
    "We say that the transform above is a graph perceptron. Different from the graph filter, the graph perceptron is a nonlinear function of the input. It is, however, a very simple form of nonlinear processing because the nonlinearity does not mix signal components. Signal components are mixed by the graph filter but are then processed element-wise through $\\sigma$.\n",
    "\n",
    "\n",
    "### Multi-layer GNN\n",
    "\n",
    "Graph perceptrons can be stacked in layers to create multi-layer GNNs. This stacking is mathematically written as a function composition where the outputs of a layer become inputs to the next layer. For a formal definition let $l=1,\\ldots,L$ be a layer index and $\\mathbf{H}_l=\\{H_{l k}\\}_{k=0}^{K-1}$ be collections of $K$ graph filter coefficients associated with each layer. At layer $l$ we take as input the output $\\mathbf{X}_{l-1}$ of layer $l-1$ which we process with the filter $\\mathbf{\\Phi} (\\mathbf{C}; \\mathcal{H}_l, \\mathbf{S})$ to produce the intermediate feature\n",
    "\n",
    "\\begin{align}\n",
    "\\mathbf{U}_{l} \\ = \\ \\sum_{k=0}^{K-1} \\mathbf{S}^k\\, \\mathbf{X}_{l-1} \\mathbf{H}_{l k},\n",
    "\\end{align}\n",
    "\n",
    "where, by convention, we say that $\\mathbf{X}_0 = \\mathbf{X}$ so that the given graph signal $\\mathbf{X}$ is the GNN input. As in the case of the graph perceptron, this feature is passed through a pointwise nonlinear function to produce the $l$th layer output\n",
    "\n",
    "\\begin{align}\n",
    "\\mathbf{X}_{l} \\ = \\ \\sigma(\\mathbf{U}_l )\n",
    "\\ = \\ \\sigma\\Bigg(\\sum_{k=0}^{K-1} \\mathbf{S}^k\\, \\mathbf{X}_{l-1} \\mathbf{H}_{l k}\\Bigg) .\n",
    "\\end{align}\n",
    "\n",
    "After recursive repetition of the above formula for $l=1,\\ldots,L$ we reach the $L$th layer whose output $\\mathbf{x}_L$ is not further processed and is declared the GNN output $\\mathbf{y}=\\mathbf{x}_L$. To represent the output of the GNN we define the filter tensor $\\mathcal{H}:=\\{\\mathcal{H}_l\\}_{l=1}^L$ grouping the $L$ tensors of filter coefficients at each layer, and define the operator $\\mathbf{\\Phi}(\\,\\cdot\\,;\\mathcal{H},\\mathbf{S})$ as the map\n",
    "\n",
    "\\begin{align}\n",
    "\\mathbf{\\Phi} (\\mathbf{X}; \\mathcal{H}, \\mathbf{S}) = \\mathbf{X}_L.\n",
    "\\end{align}\n",
    "\n",
    "In PyTorch, a multi-layer GNN can be built using a torch.nn.Module that takes in the GSO, the number of layers, the number of filter taps in each layer and the nonlinearity and instantiates as many perceptrons as there are layers:\n"
   ]
  },
  {
   "cell_type": "code",
   "execution_count": 8,
   "id": "cb2f7e43",
   "metadata": {
    "ExecuteTime": {
     "end_time": "2024-04-16T15:54:46.945014Z",
     "start_time": "2024-04-16T15:54:46.942221Z"
    }
   },
   "outputs": [],
   "source": [
    "class GNN(nn.Module):\n",
    "    def __init__(self, gso, l, k, f, sigma, bias):\n",
    "        super().__init__()\n",
    "        self.gso = torch.tensor(gso) # the graph operator (weighted adjacency matrix)\n",
    "        self.n = gso.shape[0] # number of nodes\n",
    "        self.l = l # number of layers in the GNN\n",
    "        self.k = k # length of the kernel\n",
    "        self.f = f # feature dimension of each layer\n",
    "        self.sigma = sigma # pointwise nonlinearity\n",
    "        self.bias = bias\n",
    "        # we create a series of graph filters followed by pointwise nonlinear functions\n",
    "        gml = []\n",
    "        for layer in range(l-1):\n",
    "            gml.append(GraphFilter(gso,k[layer],f[layer],f[layer+1], bias))\n",
    "            gml.append(sigma)\n",
    "        gml.append(GraphFilter(gso,1,f[layer+1],f[layer+2], bias))\n",
    "        \n",
    "        self.gml = nn.Sequential(*gml)\n",
    "        \n",
    "    def forward(self, x):\n",
    "        return self.gml(x)\n",
    "    "
   ]
  },
  {
   "cell_type": "markdown",
   "id": "b475e6df",
   "metadata": {},
   "source": [
    "\n",
    "Next we create objects for the different architectures.\n"
   ]
  },
  {
   "cell_type": "code",
   "execution_count": 9,
   "id": "9b2152c4",
   "metadata": {
    "ExecuteTime": {
     "end_time": "2024-04-16T15:54:46.948465Z",
     "start_time": "2024-04-16T15:54:46.944715Z"
    }
   },
   "outputs": [
    {
     "name": "stderr",
     "output_type": "stream",
     "text": [
      "/var/folders/9c/dr5hpt0574183ypmcv_q0jl80000gr/T/ipykernel_37991/1207878461.py:5: UserWarning: To copy construct from a tensor, it is recommended to use sourceTensor.clone().detach() or sourceTensor.clone().detach().requires_grad_(True), rather than torch.tensor(sourceTensor).\n",
      "  self.gso = torch.tensor(gso) # Stores the graph operator (the CosSim matrix) as a 'torch.Tensor' from the module 'torch'\n",
      "/var/folders/9c/dr5hpt0574183ypmcv_q0jl80000gr/T/ipykernel_37991/3319091896.py:4: UserWarning: To copy construct from a tensor, it is recommended to use sourceTensor.clone().detach() or sourceTensor.clone().detach().requires_grad_(True), rather than torch.tensor(sourceTensor).\n",
      "  self.gso = torch.tensor(gso) # the graph shift operator (weighted adjacency matrix)\n"
     ]
    }
   ],
   "source": [
    "architectures = dict()\n",
    "\n",
    "# # Graph filter\n",
    "graphFilter = nn.Sequential(GraphFilter(S,5,1,64,True), GraphFilter(S,1,64,1,True))\n",
    "architectures['GraphFilter'] = graphFilter\n",
    "\n",
    "\n",
    "# GNN\n",
    "GNN2Ly = GNN(S,3,[5,5,1],[1,64,32,1],nn.ReLU(),True)\n",
    "architectures['GNN 2 layer'] = GNN2Ly\n"
   ]
  },
  {
   "cell_type": "markdown",
   "id": "3f5ebcd3",
   "metadata": {},
   "source": [
    "\n",
    "## The training loop\n",
    "\n",
    "We define the training parameters and specify the optimization methods for all the architectures.\n"
   ]
  },
  {
   "cell_type": "code",
   "execution_count": 10,
   "id": "a3eef585",
   "metadata": {
    "ExecuteTime": {
     "end_time": "2024-04-16T15:54:47.506044Z",
     "start_time": "2024-04-16T15:54:46.947841Z"
    }
   },
   "outputs": [],
   "source": [
    "nEpochs = 100\n",
    "batchSize = 10\n",
    "learningRate = 0.01\n",
    "\n",
    "# Declaring the optimizers for each architectures\n",
    "optimizers = dict()\n",
    "for key in architectures.keys():\n",
    "    optimizers[key] = optim.Adam(architectures[key].parameters(), lr=learningRate)\n",
    "    "
   ]
  },
  {
   "cell_type": "markdown",
   "id": "bff55d35",
   "metadata": {},
   "source": [
    "\n",
    "We are almost ready for the training loop!\n"
   ]
  },
  {
   "cell_type": "code",
   "execution_count": 11,
   "id": "48702599",
   "metadata": {
    "ExecuteTime": {
     "end_time": "2024-04-16T15:54:47.509708Z",
     "start_time": "2024-04-16T15:54:47.507119Z"
    }
   },
   "outputs": [],
   "source": [
    "if nTrain < batchSize:\n",
    "    nBatches = 1\n",
    "    batchSize = [nTrain]\n",
    "elif nTrain % batchSize != 0:\n",
    "    nBatches = np.ceil(nTrain/batchSize).astype(np.int64)\n",
    "    batchSize = [batchSize] * nBatches\n",
    "    while sum(batchSize) != nTrain:\n",
    "        batchSize[-1] -= 1\n",
    "else:\n",
    "    nBatches = np.int(nTrain/batchSize)\n",
    "    batchSize = [batchSize] * nBatches\n",
    "batchIndex = np.cumsum(batchSize).tolist()\n",
    "batchIndex = [0] + batchIndex\n",
    "\n",
    "# Store the training...\n",
    "costTrain = dict()\n",
    "lossTestLast = dict()\n",
    "costTestLast = dict()\n",
    "\n",
    "bestModel = dict()\n",
    "\n",
    "for key in architectures.keys():\n",
    "    costTrain[key] = []\n",
    "    "
   ]
  },
  {
   "cell_type": "markdown",
   "id": "0825a9d7",
   "metadata": {},
   "source": [
    "\n",
    "The following defines the training loop.\n"
   ]
  },
  {
   "cell_type": "code",
   "execution_count": 12,
   "id": "b8b3ce76",
   "metadata": {
    "ExecuteTime": {
     "end_time": "2024-04-16T15:59:30.473621Z",
     "start_time": "2024-04-16T15:54:47.510577Z"
    }
   },
   "outputs": [
    {
     "name": "stdout",
     "output_type": "stream",
     "text": [
      "\n",
      "Epoch 1\n",
      "\n",
      "Epoch 2\n",
      "\n",
      "Epoch 3\n",
      "\n",
      "Epoch 4\n",
      "\n",
      "Epoch 5\n",
      "\n",
      "Epoch 6\n",
      "\n",
      "Epoch 7\n",
      "\n",
      "Epoch 8\n",
      "\n",
      "Epoch 9\n",
      "\n",
      "Epoch 10\n",
      "\n",
      "Epoch 11\n",
      "\n",
      "Epoch 12\n",
      "\n",
      "Epoch 13\n",
      "\n",
      "Epoch 14\n",
      "\n",
      "Epoch 15\n",
      "\n",
      "Epoch 16\n",
      "\n",
      "Epoch 17\n",
      "\n",
      "Epoch 18\n",
      "\n",
      "Epoch 19\n",
      "\n",
      "Epoch 20\n",
      "\n",
      "Epoch 21\n",
      "\n",
      "Epoch 22\n",
      "\n",
      "Epoch 23\n",
      "\n",
      "Epoch 24\n",
      "\n",
      "Epoch 25\n",
      "\n",
      "Epoch 26\n",
      "\n",
      "Epoch 27\n",
      "\n",
      "Epoch 28\n",
      "\n",
      "Epoch 29\n",
      "\n",
      "Epoch 30\n",
      "\n",
      "Epoch 31\n",
      "\n",
      "Epoch 32\n",
      "\n",
      "Epoch 33\n",
      "\n",
      "Epoch 34\n",
      "\n",
      "Epoch 35\n",
      "\n",
      "Epoch 36\n",
      "\n",
      "Epoch 37\n",
      "\n",
      "Epoch 38\n",
      "\n",
      "Epoch 39\n",
      "\n",
      "Epoch 40\n",
      "\n",
      "Epoch 41\n",
      "\n",
      "Epoch 42\n",
      "\n",
      "Epoch 43\n",
      "\n",
      "Epoch 44\n",
      "\n",
      "Epoch 45\n",
      "\n",
      "Epoch 46\n",
      "\n",
      "Epoch 47\n",
      "\n",
      "Epoch 48\n",
      "\n",
      "Epoch 49\n",
      "\n",
      "Epoch 50\n",
      "\n",
      "Epoch 51\n",
      "\n",
      "Epoch 52\n",
      "\n",
      "Epoch 53\n",
      "\n",
      "Epoch 54\n",
      "\n",
      "Epoch 55\n",
      "\n",
      "Epoch 56\n",
      "\n",
      "Epoch 57\n",
      "\n",
      "Epoch 58\n",
      "\n",
      "Epoch 59\n",
      "\n",
      "Epoch 60\n",
      "\n",
      "Epoch 61\n",
      "\n",
      "Epoch 62\n",
      "\n",
      "Epoch 63\n",
      "\n",
      "Epoch 64\n",
      "\n",
      "Epoch 65\n",
      "\n",
      "Epoch 66\n",
      "\n",
      "Epoch 67\n",
      "\n",
      "Epoch 68\n",
      "\n",
      "Epoch 69\n",
      "\n",
      "Epoch 70\n",
      "\n",
      "Epoch 71\n",
      "\n",
      "Epoch 72\n",
      "\n",
      "Epoch 73\n",
      "\n",
      "Epoch 74\n",
      "\n",
      "Epoch 75\n",
      "\n",
      "Epoch 76\n",
      "\n",
      "Epoch 77\n",
      "\n",
      "Epoch 78\n",
      "\n",
      "Epoch 79\n",
      "\n",
      "Epoch 80\n",
      "\n",
      "Epoch 81\n",
      "\n",
      "Epoch 82\n",
      "\n",
      "Epoch 83\n",
      "\n",
      "Epoch 84\n",
      "\n",
      "Epoch 85\n",
      "\n",
      "Epoch 86\n",
      "\n",
      "Epoch 87\n",
      "\n",
      "Epoch 88\n",
      "\n",
      "Epoch 89\n",
      "\n",
      "Epoch 90\n",
      "\n",
      "Epoch 91\n",
      "\n",
      "Epoch 92\n",
      "\n",
      "Epoch 93\n",
      "\n",
      "Epoch 94\n",
      "\n",
      "Epoch 95\n",
      "\n",
      "Epoch 96\n",
      "\n",
      "Epoch 97\n",
      "\n",
      "Epoch 98\n",
      "\n",
      "Epoch 99\n",
      "\n",
      "Epoch 100\n"
     ]
    }
   ],
   "source": [
    "epoch = 0 # epoch counter\n",
    "    \n",
    "while epoch < nEpochs:\n",
    "    randomPermutation = np.random.permutation(nTrain)\n",
    "    idxEpoch = [int(i) for i in randomPermutation]\n",
    "    print(\"\")\n",
    "    print(\"Epoch %d\" % (epoch+1))\n",
    "\n",
    "    batch = 0 \n",
    "    \n",
    "    while batch < nBatches:\n",
    "        # Determine batch indices\n",
    "        thisBatchIndices = idxEpoch[batchIndex[batch]\n",
    "                                    : batchIndex[batch+1]]\n",
    "        \n",
    "        # Get the samples in this batch\n",
    "        xTrainBatch = xTrain[thisBatchIndices,:,:]\n",
    "        yTrainBatch = yTrain[thisBatchIndices]\n",
    "        pTrainBatch = pTrain[thisBatchIndices]\n",
    "        \n",
    "        for key in architectures.keys():\n",
    "            # Reset gradients\n",
    "            architectures[key].zero_grad()\n",
    "\n",
    "            # Obtain the output of the architectures\n",
    "            yHatTrainBatch = architectures[key](xTrainBatch)\n",
    "\n",
    "            # Compute loss\n",
    "            lossValueTrain = movieMSELoss(yHatTrainBatch, yTrainBatch, pTrainBatch)\n",
    "        \n",
    "            # Compute gradients\n",
    "            lossValueTrain.backward()\n",
    "        \n",
    "            # Optimize\n",
    "            optimizers[key].step()\n",
    "\n",
    "        batch+=1\n",
    "        \n",
    "    for key in architectures.keys():\n",
    "        # Reset gradients\n",
    "        architectures[key].zero_grad()\n",
    "\n",
    "        # Obtain the output of the architectures\n",
    "        yHatTrain = architectures[key](xTrain)\n",
    "\n",
    "        # Compute loss\n",
    "        costTrain[key] += [np.sqrt(movieMSELoss(yHatTrain, yTrain, pTrain).item())]\n",
    "             \n",
    "    epoch+=1\n",
    "    "
   ]
  },
  {
   "cell_type": "markdown",
   "id": "9b369b1c",
   "metadata": {},
   "source": [
    "\n",
    "## Training error evolution\n",
    "We plot the training cost after every epoch for the 2-layer GNN:\n"
   ]
  },
  {
   "cell_type": "code",
   "execution_count": 13,
   "id": "d61e1c95",
   "metadata": {
    "ExecuteTime": {
     "end_time": "2024-04-16T15:59:30.531382Z",
     "start_time": "2024-04-16T15:59:30.480388Z"
    }
   },
   "outputs": [
    {
     "data": {
      "text/plain": "<Figure size 640x480 with 1 Axes>",
      "image/png": "[encoded data removed]"
     },
     "metadata": {},
     "output_type": "display_data"
    }
   ],
   "source": [
    "\n",
    "plt.figure(2)\n",
    "plt.plot(costTrain['GNN 2 layer'])\n",
    "plt.ylabel('Mean Squared Error')\n",
    "plt.xlabel('Epochs')\n",
    "plt.title('GNN Training Cost')\n",
    "plt.show()\n"
   ]
  },
  {
   "cell_type": "markdown",
   "id": "ab22f87e",
   "metadata": {},
   "source": [
    "\n",
    "## Evaluation\n",
    "\n",
    "We evaluate the testing MSE loss for the different models.\n"
   ]
  },
  {
   "cell_type": "code",
   "execution_count": 14,
   "id": "28432fc8",
   "metadata": {
    "ExecuteTime": {
     "end_time": "2024-04-16T15:59:30.646882Z",
     "start_time": "2024-04-16T15:59:30.533870Z"
    }
   },
   "outputs": [
    {
     "name": "stdout",
     "output_type": "stream",
     "text": [
      "Final evaluation results\n",
      " GraphFilter 0.9825 [Last]\n",
      " GNN 2 layer 0.8859 [Last]\n"
     ]
    }
   ],
   "source": [
    "\n",
    "print(\"Final evaluation results\")\n",
    "\n",
    "for key in architectures.keys():\n",
    "    with torch.no_grad():\n",
    "        yHatTest = architectures[key](xTest)\n",
    "    lossTestLast[key] = movieMSELoss(yHatTest, yTest, pTest)\n",
    "    costTestLast[key] = np.sqrt(lossTestLast[key].item())\n",
    "    \n",
    "    print(\" \" + key +  \" %6.4f [Last]\" % (\n",
    "                        costTestLast[key]))\n",
    "    "
   ]
  }
 ],
 "metadata": {
  "kernelspec": {
   "display_name": "Python 3 (ipykernel)",
   "language": "python",
   "name": "python3"
  },
  "language_info": {
   "codemirror_mode": {
    "name": "ipython",
    "version": 3
   },
   "file_extension": ".py",
   "mimetype": "text/x-python",
   "name": "python",
   "nbconvert_exporter": "python",
   "pygments_lexer": "ipython3",
   "version": "3.8.15"
  }
 },
 "nbformat": 4,
 "nbformat_minor": 5
}
