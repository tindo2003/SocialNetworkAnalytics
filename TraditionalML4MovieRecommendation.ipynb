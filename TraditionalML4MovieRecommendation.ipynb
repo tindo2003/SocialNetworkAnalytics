{
 "nbformat": 4,
 "nbformat_minor": 0,
 "metadata": {
  "colab": {
   "provenance": []
  },
  "kernelspec": {
   "name": "python3",
   "language": "python",
   "display_name": "Python 3 (ipykernel)"
  },
  "language_info": {
   "name": "python"
  }
 },
 "cells": [
  {
   "cell_type": "markdown",
   "source": [
    "In this notebook, we will use traditional machine learning methods to the problem of product recommendation. We will use the MovieLens dataset, which contains user ratings for movies, along with movie metadata. The dataset contains ~1M movie ratings collected from 3706 users. The user ratings are on a scale from 1 to 5 (stars). The dataset also contains identifiers for users and movies, as well as some additional metadata such as movie genres and timestamps of ratings.\n",
    "\n",
    "Let's start by loading the data in this notebook. Since this is a large dataset and the computations are quite costly, I strongly suggest you use your own (local) computer to run the code (instead of running it in the Cloud using, e.g., Colab). Now, to read the ratings.dat file into a pandas DataFrame, we can use:"
   ],
   "metadata": {
    "id": "r6IMTuJFPxvH"
   }
  },
  {
   "cell_type": "code",
   "execution_count": 1,
   "metadata": {
    "colab": {
     "base_uri": "https://localhost:8080/"
    },
    "id": "X6ARzywiPxNP",
    "outputId": "24dd8473-f7b3-4dc1-e420-8b31bfdc768b",
    "ExecuteTime": {
     "end_time": "2024-03-28T00:05:49.068241Z",
     "start_time": "2024-03-28T00:05:46.347257Z"
    }
   },
   "outputs": [
    {
     "name": "stdout",
     "output_type": "stream",
     "text": [
      "3.581564453029317\n"
     ]
    },
    {
     "data": {
      "text/plain": "   UserID  MovieID  Rating  Timestamp\n0       1     1193       5  978300760\n1       1      661       3  978302109\n2       1      914       3  978301968\n3       1     3408       4  978300275\n4       1     2355       5  978824291",
      "text/html": "<div>\n<style scoped>\n    .dataframe tbody tr th:only-of-type {\n        vertical-align: middle;\n    }\n\n    .dataframe tbody tr th {\n        vertical-align: top;\n    }\n\n    .dataframe thead th {\n        text-align: right;\n    }\n</style>\n<table border=\"1\" class=\"dataframe\">\n  <thead>\n    <tr style=\"text-align: right;\">\n      <th></th>\n      <th>UserID</th>\n      <th>MovieID</th>\n      <th>Rating</th>\n      <th>Timestamp</th>\n    </tr>\n  </thead>\n  <tbody>\n    <tr>\n      <th>0</th>\n      <td>1</td>\n      <td>1193</td>\n      <td>5</td>\n      <td>978300760</td>\n    </tr>\n    <tr>\n      <th>1</th>\n      <td>1</td>\n      <td>661</td>\n      <td>3</td>\n      <td>978302109</td>\n    </tr>\n    <tr>\n      <th>2</th>\n      <td>1</td>\n      <td>914</td>\n      <td>3</td>\n      <td>978301968</td>\n    </tr>\n    <tr>\n      <th>3</th>\n      <td>1</td>\n      <td>3408</td>\n      <td>4</td>\n      <td>978300275</td>\n    </tr>\n    <tr>\n      <th>4</th>\n      <td>1</td>\n      <td>2355</td>\n      <td>5</td>\n      <td>978824291</td>\n    </tr>\n  </tbody>\n</table>\n</div>"
     },
     "execution_count": 1,
     "metadata": {},
     "output_type": "execute_result"
    }
   ],
   "source": [
    "# Import libraries\n",
    "import pandas as pd\n",
    "import numpy as np\n",
    "import matplotlib.pyplot as plt\n",
    "from sklearn.preprocessing import OneHotEncoder\n",
    "from sklearn.metrics.pairwise import cosine_similarity\n",
    "from sklearn.model_selection import train_test_split\n",
    "from sklearn.linear_model import LinearRegression\n",
    "from sklearn.metrics import mean_squared_error\n",
    "\n",
    "# Update the path according to where you locate the file in your computer!\n",
    "ratings_file_path = '/Users/victormpreciado/PythonProjects/Networks/Data/MovieLens/ratings.dat'\n",
    "\n",
    "# Assuming the separator is '::' for the MovieLens dataset\n",
    "ratings = pd.read_csv(ratings_file_path, sep='::', header=None, names=['UserID', 'MovieID', 'Rating', 'Timestamp'], engine='python')\n",
    "\n",
    "# Compute the average of the 'Rating' column\n",
    "avg_rating = ratings['Rating'].mean()\n",
    "\n",
    "# Now 'avg_rating' contains the average rating\n",
    "print(avg_rating)\n",
    "\n",
    "# Display the first few rows of the dataframe\n",
    "ratings.head()"
   ]
  },
  {
   "cell_type": "markdown",
   "source": [
    "As you can see above, each row contains the 'Rating' (1 to 5) that user 'UserID' assigns to movie 'MovieID'. We now download a second file named 'users.dat' containing a few attributes for each user, in particular, 'Gender', 'Age' (not the exact age, but the age group), 'Occupation' and 'Zip-code'. Let's load the file and take a look at the data..."
   ],
   "metadata": {
    "collapsed": false
   }
  },
  {
   "cell_type": "code",
   "source": [
    "# Update the path according to where the file is located\n",
    "users_file_path = '/Users/victormpreciado/PythonProjects/Networks/Data/MovieLens/users.dat'\n",
    "\n",
    "# Define column names for the users DataFrame\n",
    "user_columns = ['UserID', 'Gender', 'Age', 'Occupation', 'Zip-code']\n",
    "\n",
    "# Load the data\n",
    "users = pd.read_csv(users_file_path, sep='::', header=None, names=user_columns, engine='python')\n",
    "\n",
    "# Display the first few rows to verify\n",
    "users.head()"
   ],
   "metadata": {
    "colab": {
     "base_uri": "https://localhost:8080/",
     "height": 236
    },
    "id": "Ukwwxxo0XGtv",
    "outputId": "a9565569-5eb3-4373-d163-26c4b3e622fb",
    "ExecuteTime": {
     "end_time": "2024-03-28T00:05:49.080448Z",
     "start_time": "2024-03-28T00:05:49.067934Z"
    }
   },
   "execution_count": 2,
   "outputs": [
    {
     "data": {
      "text/plain": "   UserID Gender  Age  Occupation Zip-code\n0       1      F    1          10    48067\n1       2      M   56          16    70072\n2       3      M   25          15    55117\n3       4      M   45           7    02460\n4       5      M   25          20    55455",
      "text/html": "<div>\n<style scoped>\n    .dataframe tbody tr th:only-of-type {\n        vertical-align: middle;\n    }\n\n    .dataframe tbody tr th {\n        vertical-align: top;\n    }\n\n    .dataframe thead th {\n        text-align: right;\n    }\n</style>\n<table border=\"1\" class=\"dataframe\">\n  <thead>\n    <tr style=\"text-align: right;\">\n      <th></th>\n      <th>UserID</th>\n      <th>Gender</th>\n      <th>Age</th>\n      <th>Occupation</th>\n      <th>Zip-code</th>\n    </tr>\n  </thead>\n  <tbody>\n    <tr>\n      <th>0</th>\n      <td>1</td>\n      <td>F</td>\n      <td>1</td>\n      <td>10</td>\n      <td>48067</td>\n    </tr>\n    <tr>\n      <th>1</th>\n      <td>2</td>\n      <td>M</td>\n      <td>56</td>\n      <td>16</td>\n      <td>70072</td>\n    </tr>\n    <tr>\n      <th>2</th>\n      <td>3</td>\n      <td>M</td>\n      <td>25</td>\n      <td>15</td>\n      <td>55117</td>\n    </tr>\n    <tr>\n      <th>3</th>\n      <td>4</td>\n      <td>M</td>\n      <td>45</td>\n      <td>7</td>\n      <td>02460</td>\n    </tr>\n    <tr>\n      <th>4</th>\n      <td>5</td>\n      <td>M</td>\n      <td>25</td>\n      <td>20</td>\n      <td>55455</td>\n    </tr>\n  </tbody>\n</table>\n</div>"
     },
     "execution_count": 2,
     "metadata": {},
     "output_type": "execute_result"
    }
   ]
  },
  {
   "cell_type": "markdown",
   "source": [
    "We also have features about each movie in the file 'movies.dat'. The features for each 'MovieID' are: 'Title' (including the year in parentheses) and 'Genres' (more than one genre possible)."
   ],
   "metadata": {
    "id": "HsxkB0bJYVUP"
   }
  },
  {
   "cell_type": "code",
   "source": [
    "# Update the path according to where the file is located\n",
    "movies_file_path = '/Users/victormpreciado/PythonProjects/Networks/Data/MovieLens/movies.dat'\n",
    "\n",
    "# Define column names for the movies DataFrame\n",
    "movie_columns = ['MovieID', 'Title', 'Genres']\n",
    "\n",
    "# Load the data with ISO-8859-1 encoding\n",
    "movies = pd.read_csv(movies_file_path, sep='::', header=None, names=movie_columns, engine='python', encoding='ISO-8859-1')\n",
    "\n",
    "# Display the first few rows to verify\n",
    "movies.head()"
   ],
   "metadata": {
    "colab": {
     "base_uri": "https://localhost:8080/",
     "height": 236
    },
    "id": "CXPH0RhTYHxv",
    "outputId": "42f37816-6b19-4445-f0f9-148a280d2ffe",
    "ExecuteTime": {
     "end_time": "2024-03-28T00:05:49.087924Z",
     "start_time": "2024-03-28T00:05:49.080801Z"
    }
   },
   "execution_count": 3,
   "outputs": [
    {
     "data": {
      "text/plain": "   MovieID                               Title                        Genres\n0        1                    Toy Story (1995)   Animation|Children's|Comedy\n1        2                      Jumanji (1995)  Adventure|Children's|Fantasy\n2        3             Grumpier Old Men (1995)                Comedy|Romance\n3        4            Waiting to Exhale (1995)                  Comedy|Drama\n4        5  Father of the Bride Part II (1995)                        Comedy",
      "text/html": "<div>\n<style scoped>\n    .dataframe tbody tr th:only-of-type {\n        vertical-align: middle;\n    }\n\n    .dataframe tbody tr th {\n        vertical-align: top;\n    }\n\n    .dataframe thead th {\n        text-align: right;\n    }\n</style>\n<table border=\"1\" class=\"dataframe\">\n  <thead>\n    <tr style=\"text-align: right;\">\n      <th></th>\n      <th>MovieID</th>\n      <th>Title</th>\n      <th>Genres</th>\n    </tr>\n  </thead>\n  <tbody>\n    <tr>\n      <th>0</th>\n      <td>1</td>\n      <td>Toy Story (1995)</td>\n      <td>Animation|Children's|Comedy</td>\n    </tr>\n    <tr>\n      <th>1</th>\n      <td>2</td>\n      <td>Jumanji (1995)</td>\n      <td>Adventure|Children's|Fantasy</td>\n    </tr>\n    <tr>\n      <th>2</th>\n      <td>3</td>\n      <td>Grumpier Old Men (1995)</td>\n      <td>Comedy|Romance</td>\n    </tr>\n    <tr>\n      <th>3</th>\n      <td>4</td>\n      <td>Waiting to Exhale (1995)</td>\n      <td>Comedy|Drama</td>\n    </tr>\n    <tr>\n      <th>4</th>\n      <td>5</td>\n      <td>Father of the Bride Part II (1995)</td>\n      <td>Comedy</td>\n    </tr>\n  </tbody>\n</table>\n</div>"
     },
     "execution_count": 3,
     "metadata": {},
     "output_type": "execute_result"
    }
   ]
  },
  {
   "cell_type": "markdown",
   "source": [
    "After all the data available is loaded, we move on to the task of building a machine learning architecture able to predict the rating that a particular individual would assign to a movie. A simple approach to tackle this problem would be to take as input features the combination of the features of an 'User' with the features of a 'Movie' and consider 'Rating' as the Output variable. In this Notebook, we use a more sophisticated approach called Collaborative Filtering. This technique is based on creating a complete weighted graph where each node represents a user and the weight of each edge connecting two users measures how similar these two individuals are based on their Cosine Similarity, which we explain below.\n",
    "\n",
    "To build the weighted network of Cosine Similarities, we first create a user-item rectangular matrix. The rows of this rectangular matrix are indexed by the users, while the columns by the movies. The entries are the ratings that individuals give to movies. By convention, we fill this matrix with a zero when an individual has not seen a movie. Since an individual has only seen a small fraction of movies, this built matrix is very sparse (most entries are zero). The code below builds and shows a part of this (sparse and rectangular) matrix..."
   ],
   "metadata": {
    "id": "3t2NfZBtazYE"
   }
  },
  {
   "cell_type": "code",
   "source": [
    "# Creating the user-item matrix\n",
    "user_item_matrix = ratings.pivot_table(index='UserID', columns='MovieID', values='Rating')\n",
    "\n",
    "# Fill missing values with 0s (assuming that missing values mean unrated movies)\n",
    "user_item_matrix = user_item_matrix.fillna(0)\n",
    "\n",
    "# Display the user-item matrix\n",
    "print(user_item_matrix.head()) # This shows part of the first 5 rows of the user-item matrix"
   ],
   "metadata": {
    "colab": {
     "base_uri": "https://localhost:8080/"
    },
    "id": "KSkVFz-OYjRr",
    "outputId": "1f206078-dc80-4da4-a8a6-c6dc48540276",
    "ExecuteTime": {
     "end_time": "2024-03-28T00:05:49.493345Z",
     "start_time": "2024-03-28T00:05:49.092030Z"
    }
   },
   "execution_count": 4,
   "outputs": [
    {
     "name": "stdout",
     "output_type": "stream",
     "text": [
      "MovieID  1     2     3     4     5     6     7     8     9     10    ...  \\\n",
      "UserID                                                               ...   \n",
      "1         5.0   0.0   0.0   0.0   0.0   0.0   0.0   0.0   0.0   0.0  ...   \n",
      "2         0.0   0.0   0.0   0.0   0.0   0.0   0.0   0.0   0.0   0.0  ...   \n",
      "3         0.0   0.0   0.0   0.0   0.0   0.0   0.0   0.0   0.0   0.0  ...   \n",
      "4         0.0   0.0   0.0   0.0   0.0   0.0   0.0   0.0   0.0   0.0  ...   \n",
      "5         0.0   0.0   0.0   0.0   0.0   2.0   0.0   0.0   0.0   0.0  ...   \n",
      "\n",
      "MovieID  3943  3944  3945  3946  3947  3948  3949  3950  3951  3952  \n",
      "UserID                                                               \n",
      "1         0.0   0.0   0.0   0.0   0.0   0.0   0.0   0.0   0.0   0.0  \n",
      "2         0.0   0.0   0.0   0.0   0.0   0.0   0.0   0.0   0.0   0.0  \n",
      "3         0.0   0.0   0.0   0.0   0.0   0.0   0.0   0.0   0.0   0.0  \n",
      "4         0.0   0.0   0.0   0.0   0.0   0.0   0.0   0.0   0.0   0.0  \n",
      "5         0.0   0.0   0.0   0.0   0.0   0.0   0.0   0.0   0.0   0.0  \n",
      "\n",
      "[5 rows x 3706 columns]\n"
     ]
    }
   ]
  },
  {
   "cell_type": "markdown",
   "source": [
    "We can now build the complete weighted graph of Cosine Similarities. The Cosine Similarity between two users $\\text{User1}$ and $\\text{User2}$ is mathematically defined as:\n",
    "\n",
    "$$\n",
    "\\text{CosSim}(\\text{User1}, \\text{User2}) = \\frac{\\sum_{Item=1}^{\\text{# of Items}} \\text{Rating}(\\text{User1}, \\text{Item}) \\times \\text{Rating}(\\text{User2}, \\text{Item})}{\\sqrt{\\sum_{Item=1}^{\\text{# of Items}} (\\text{Rating}(\\text{User1}, \\text{Item}))^2} \\times \\sqrt{\\sum_{Item=1}^{\\text{# of Items}} (\\text{Rating}(\\text{User2}, \\text{Item}))^2}}\n",
    "$$\n",
    "\n",
    "where: $\\text{Rating(User,Item)}$ is the ratings given by user $\\textbf{User}$ to item $\\textbf{Item}$."
   ],
   "metadata": {
    "id": "xIc4oeGAkJAz"
   }
  },
  {
   "cell_type": "code",
   "source": [
    "# Create a user-item matrix for cosine similarity calculation\n",
    "user_item_matrix = ratings.pivot_table(index='UserID', columns='MovieID', values='Rating').fillna(0)\n",
    "\n",
    "# Compute user-user cosine similarity matrix\n",
    "user_similarity = cosine_similarity(user_item_matrix)\n",
    "print(user_similarity)"
   ],
   "metadata": {
    "colab": {
     "base_uri": "https://localhost:8080/",
     "height": 396
    },
    "id": "ZAdQoK_4l3Fm",
    "outputId": "8dbfc011-adcb-4e8a-d188-a8e870828af1",
    "ExecuteTime": {
     "end_time": "2024-03-28T00:05:50.612888Z",
     "start_time": "2024-03-28T00:05:49.496593Z"
    }
   },
   "execution_count": 5,
   "outputs": [
    {
     "name": "stdout",
     "output_type": "stream",
     "text": [
      "[[1.         0.09638153 0.12060981 ... 0.         0.17460369 0.13359025]\n",
      " [0.09638153 1.         0.1514786  ... 0.06611767 0.0664575  0.21827563]\n",
      " [0.12060981 0.1514786  1.         ... 0.12023352 0.09467506 0.13314404]\n",
      " ...\n",
      " [0.         0.06611767 0.12023352 ... 1.         0.16171426 0.09930008]\n",
      " [0.17460369 0.0664575  0.09467506 ... 0.16171426 1.         0.22833237]\n",
      " [0.13359025 0.21827563 0.13314404 ... 0.09930008 0.22833237 1.        ]]\n"
     ]
    }
   ]
  },
  {
   "cell_type": "markdown",
   "source": [
    "Once we have built the matrix of Cosine Similarities, we build a network-based feature, called 'SimilarUserRatings', as follows: 1) Pick a particular user 'User' and find the top-50 most similar users (according to the Cosine Similarities); 2) Pick a movie 'Movie' and compute the average rating that the top-50 users most similar to 'User' assign to that movie. We can compute and include this new feature in the 'ratings' DataFrame, as follows... (this next cell takes a long time to compute, so be patient and make sure you use your own computer instead of Google Colab) "
   ],
   "metadata": {
    "collapsed": false
   }
  },
  {
   "cell_type": "code",
   "execution_count": 6,
   "outputs": [
    {
     "data": {
      "text/plain": "   UserID  MovieID  Rating  Timestamp  SimilarUsersRating\n0       1     1193       5  978300760            4.166667\n1       1      661       3  978302109            3.571429\n2       1      914       3  978301968            4.470588\n3       1     3408       4  978300275            4.117647\n4       1     2355       5  978824291            4.263158",
      "text/html": "<div>\n<style scoped>\n    .dataframe tbody tr th:only-of-type {\n        vertical-align: middle;\n    }\n\n    .dataframe tbody tr th {\n        vertical-align: top;\n    }\n\n    .dataframe thead th {\n        text-align: right;\n    }\n</style>\n<table border=\"1\" class=\"dataframe\">\n  <thead>\n    <tr style=\"text-align: right;\">\n      <th></th>\n      <th>UserID</th>\n      <th>MovieID</th>\n      <th>Rating</th>\n      <th>Timestamp</th>\n      <th>SimilarUsersRating</th>\n    </tr>\n  </thead>\n  <tbody>\n    <tr>\n      <th>0</th>\n      <td>1</td>\n      <td>1193</td>\n      <td>5</td>\n      <td>978300760</td>\n      <td>4.166667</td>\n    </tr>\n    <tr>\n      <th>1</th>\n      <td>1</td>\n      <td>661</td>\n      <td>3</td>\n      <td>978302109</td>\n      <td>3.571429</td>\n    </tr>\n    <tr>\n      <th>2</th>\n      <td>1</td>\n      <td>914</td>\n      <td>3</td>\n      <td>978301968</td>\n      <td>4.470588</td>\n    </tr>\n    <tr>\n      <th>3</th>\n      <td>1</td>\n      <td>3408</td>\n      <td>4</td>\n      <td>978300275</td>\n      <td>4.117647</td>\n    </tr>\n    <tr>\n      <th>4</th>\n      <td>1</td>\n      <td>2355</td>\n      <td>5</td>\n      <td>978824291</td>\n      <td>4.263158</td>\n    </tr>\n  </tbody>\n</table>\n</div>"
     },
     "execution_count": 6,
     "metadata": {},
     "output_type": "execute_result"
    }
   ],
   "source": [
    "# For each user-movie pair, calculate the average rating from top-N similar users (N=50)\n",
    "def get_similar_users_rating(row, top_n=50):\n",
    "    similar_users = np.argsort(-user_similarity[row['UserID'] - 1])[:top_n]\n",
    "    similar_users_ratings = user_item_matrix.iloc[similar_users, user_item_matrix.columns.get_loc(row['MovieID'])]\n",
    "    # Filter out zero values\n",
    "    non_zero_ratings = similar_users_ratings[similar_users_ratings != 0]\n",
    "    # Compute the mean of non-zero values\n",
    "    return np.mean(non_zero_ratings) if len(non_zero_ratings) > 0 else avg_rating\n",
    "\n",
    "# The next line creates a new column with 'SimilarUserRatings'\n",
    "ratings['SimilarUsersRating'] = ratings.apply(get_similar_users_rating, axis=1) \n",
    "ratings.head()"
   ],
   "metadata": {
    "collapsed": false,
    "ExecuteTime": {
     "end_time": "2024-03-28T00:11:57.838536Z",
     "start_time": "2024-03-28T00:05:50.602952Z"
    }
   }
  },
  {
   "cell_type": "markdown",
   "source": [
    "Apart from this network-based feature, we will also use features based on attributes to make our predictions. As attribute-based features for the 'Movie', we will only use its genre (using Multi-Hot encoding). As attribute-based features of the 'User', we consider their 'Age' group (as a numerical value), 'Gender' (as a binary variable), and 'Occupation' (as a One-Hot Encoding)."
   ],
   "metadata": {
    "collapsed": false
   }
  },
  {
   "cell_type": "code",
   "execution_count": 7,
   "outputs": [
    {
     "data": {
      "text/plain": "      UserID  MovieID  Rating  Timestamp  SimilarUsersRating  Age  Gender  \\\n0          1     1193       5  978300760            4.166667    1       0   \n120        2     1193       5  978298413            4.333333   56       1   \n1339      12     1193       4  978220179            4.611111   25       1   \n1518      15     1193       4  978199279            4.222222   25       1   \n1747      17     1193       5  978158471            3.888889   50       1   \n\n      Occupation_0  Occupation_1  Occupation_2  ...  Fantasy  Film-Noir  \\\n0            False         False         False  ...        0          0   \n120          False         False         False  ...        0          0   \n1339         False         False         False  ...        0          0   \n1518         False         False         False  ...        0          0   \n1747         False          True         False  ...        0          0   \n\n      Horror  Musical  Mystery  Romance  Sci-Fi  Thriller  War  Western  \n0          0        0        0        1       0         0    0        0  \n120        0        0        0        1       0         0    0        0  \n1339       0        0        0        1       0         0    0        0  \n1518       0        0        0        1       0         0    0        0  \n1747       0        0        0        1       0         0    0        0  \n\n[5 rows x 46 columns]",
      "text/html": "<div>\n<style scoped>\n    .dataframe tbody tr th:only-of-type {\n        vertical-align: middle;\n    }\n\n    .dataframe tbody tr th {\n        vertical-align: top;\n    }\n\n    .dataframe thead th {\n        text-align: right;\n    }\n</style>\n<table border=\"1\" class=\"dataframe\">\n  <thead>\n    <tr style=\"text-align: right;\">\n      <th></th>\n      <th>UserID</th>\n      <th>MovieID</th>\n      <th>Rating</th>\n      <th>Timestamp</th>\n      <th>SimilarUsersRating</th>\n      <th>Age</th>\n      <th>Gender</th>\n      <th>Occupation_0</th>\n      <th>Occupation_1</th>\n      <th>Occupation_2</th>\n      <th>...</th>\n      <th>Fantasy</th>\n      <th>Film-Noir</th>\n      <th>Horror</th>\n      <th>Musical</th>\n      <th>Mystery</th>\n      <th>Romance</th>\n      <th>Sci-Fi</th>\n      <th>Thriller</th>\n      <th>War</th>\n      <th>Western</th>\n    </tr>\n  </thead>\n  <tbody>\n    <tr>\n      <th>0</th>\n      <td>1</td>\n      <td>1193</td>\n      <td>5</td>\n      <td>978300760</td>\n      <td>4.166667</td>\n      <td>1</td>\n      <td>0</td>\n      <td>False</td>\n      <td>False</td>\n      <td>False</td>\n      <td>...</td>\n      <td>0</td>\n      <td>0</td>\n      <td>0</td>\n      <td>0</td>\n      <td>0</td>\n      <td>1</td>\n      <td>0</td>\n      <td>0</td>\n      <td>0</td>\n      <td>0</td>\n    </tr>\n    <tr>\n      <th>120</th>\n      <td>2</td>\n      <td>1193</td>\n      <td>5</td>\n      <td>978298413</td>\n      <td>4.333333</td>\n      <td>56</td>\n      <td>1</td>\n      <td>False</td>\n      <td>False</td>\n      <td>False</td>\n      <td>...</td>\n      <td>0</td>\n      <td>0</td>\n      <td>0</td>\n      <td>0</td>\n      <td>0</td>\n      <td>1</td>\n      <td>0</td>\n      <td>0</td>\n      <td>0</td>\n      <td>0</td>\n    </tr>\n    <tr>\n      <th>1339</th>\n      <td>12</td>\n      <td>1193</td>\n      <td>4</td>\n      <td>978220179</td>\n      <td>4.611111</td>\n      <td>25</td>\n      <td>1</td>\n      <td>False</td>\n      <td>False</td>\n      <td>False</td>\n      <td>...</td>\n      <td>0</td>\n      <td>0</td>\n      <td>0</td>\n      <td>0</td>\n      <td>0</td>\n      <td>1</td>\n      <td>0</td>\n      <td>0</td>\n      <td>0</td>\n      <td>0</td>\n    </tr>\n    <tr>\n      <th>1518</th>\n      <td>15</td>\n      <td>1193</td>\n      <td>4</td>\n      <td>978199279</td>\n      <td>4.222222</td>\n      <td>25</td>\n      <td>1</td>\n      <td>False</td>\n      <td>False</td>\n      <td>False</td>\n      <td>...</td>\n      <td>0</td>\n      <td>0</td>\n      <td>0</td>\n      <td>0</td>\n      <td>0</td>\n      <td>1</td>\n      <td>0</td>\n      <td>0</td>\n      <td>0</td>\n      <td>0</td>\n    </tr>\n    <tr>\n      <th>1747</th>\n      <td>17</td>\n      <td>1193</td>\n      <td>5</td>\n      <td>978158471</td>\n      <td>3.888889</td>\n      <td>50</td>\n      <td>1</td>\n      <td>False</td>\n      <td>True</td>\n      <td>False</td>\n      <td>...</td>\n      <td>0</td>\n      <td>0</td>\n      <td>0</td>\n      <td>0</td>\n      <td>0</td>\n      <td>1</td>\n      <td>0</td>\n      <td>0</td>\n      <td>0</td>\n      <td>0</td>\n    </tr>\n  </tbody>\n</table>\n<p>5 rows × 46 columns</p>\n</div>"
     },
     "execution_count": 7,
     "metadata": {},
     "output_type": "execute_result"
    }
   ],
   "source": [
    "# Multi-hot encode movie genres\n",
    "movies_genres = movies['Genres'].str.get_dummies(sep='|')\n",
    "\n",
    "# One-hot encode user's occupation\n",
    "users_occupation = pd.get_dummies(users['Occupation'], prefix='Occupation')\n",
    "\n",
    "# Encode gender as binary\n",
    "users['Gender'] = users['Gender'].map({'F': 0, 'M': 1})\n",
    "\n",
    "# Combine user features\n",
    "users_features = pd.concat([users[['UserID', 'Age', 'Gender']], users_occupation], axis=1)\n",
    "\n",
    "# Merge ratings with user features and movie genres\n",
    "ratings = ratings.merge(users_features, on='UserID')\n",
    "ratings = ratings.merge(movies_genres, left_on='MovieID', right_index=True)\n",
    "ratings.head()"
   ],
   "metadata": {
    "collapsed": false,
    "ExecuteTime": {
     "end_time": "2024-03-28T00:11:58.050340Z",
     "start_time": "2024-03-28T00:11:57.838463Z"
    }
   }
  },
  {
   "cell_type": "markdown",
   "source": [
    "We now use a Linear Regression to train a movie rating predictor based on the features engineered above..."
   ],
   "metadata": {
    "id": "-YtTpUKSpZ1n"
   }
  },
  {
   "cell_type": "code",
   "source": [
    "# Prepare the dataset for training\n",
    "X = ratings.drop(['UserID', 'MovieID', 'Rating', 'Timestamp'], axis=1)\n",
    "y = ratings['Rating']\n",
    "\n",
    "# Split the dataset\n",
    "X_train, X_test, y_train, y_test = train_test_split(X, y, test_size=0.2, random_state=42)\n",
    "\n",
    "# Initialize and train the Linear Regression model\n",
    "model = LinearRegression()\n",
    "model.fit(X_train, y_train)\n",
    "\n",
    "# Predict on test set\n",
    "y_pred = model.predict(X_test)\n",
    "\n",
    "# Evaluate the model\n",
    "mse = mean_squared_error(y_test, y_pred)\n",
    "print(f'Mean Squared Error: {mse}')"
   ],
   "metadata": {
    "id": "cw1L8NkVmHeG",
    "ExecuteTime": {
     "end_time": "2024-03-28T00:11:58.806066Z",
     "start_time": "2024-03-28T00:11:58.073113Z"
    }
   },
   "execution_count": 8,
   "outputs": [
    {
     "name": "stdout",
     "output_type": "stream",
     "text": [
      "Mean Squared Error: 0.7915360998096428\n"
     ]
    }
   ]
  }
 ]
}
